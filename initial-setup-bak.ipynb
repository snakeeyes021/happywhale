{
 "cells": [
  {
   "cell_type": "code",
   "execution_count": 124,
   "metadata": {
    "execution": {
     "iopub.execute_input": "2022-02-22T18:33:16.122735Z",
     "iopub.status.busy": "2022-02-22T18:33:16.122412Z",
     "iopub.status.idle": "2022-02-22T18:33:16.156565Z",
     "shell.execute_reply": "2022-02-22T18:33:16.155410Z",
     "shell.execute_reply.started": "2022-02-22T18:33:16.122702Z"
    }
   },
   "outputs": [],
   "source": [
    "import pandas as pd\n",
    "import numpy as np\n",
    "import matplotlib.pyplot as plt\n",
    "import seaborn as sns\n",
    "\n",
    "import os\n",
    "import shutil\n",
    "import PIL\n",
    "import tensorflow as tf\n",
    "\n",
    "from sklearn.model_selection import train_test_split\n",
    "from sklearn.preprocessing import LabelEncoder\n",
    "\n",
    "from tensorflow import keras\n",
    "from tensorflow.keras import layers\n",
    "from tensorflow.keras.models import Sequential\n",
    "from tensorflow.keras.preprocessing import image_dataset_from_directory\n",
    "\n",
    "from keras.preprocessing.image import ImageDataGenerator, array_to_img, img_to_array, load_img\n",
    "\n",
    "%matplotlib inline\n",
    "\n",
    "random_state = 22222"
   ]
  },
  {
   "cell_type": "code",
   "execution_count": 2,
   "metadata": {
    "execution": {
     "iopub.execute_input": "2022-02-22T15:00:05.694763Z",
     "iopub.status.busy": "2022-02-22T15:00:05.694251Z",
     "iopub.status.idle": "2022-02-22T15:00:05.844580Z",
     "shell.execute_reply": "2022-02-22T15:00:05.842569Z",
     "shell.execute_reply.started": "2022-02-22T15:00:05.694706Z"
    }
   },
   "outputs": [
    {
     "name": "stdout",
     "output_type": "stream",
     "text": [
      "happy-whale-and-dolphin\n"
     ]
    }
   ],
   "source": [
    "!ls data"
   ]
  },
  {
   "cell_type": "code",
   "execution_count": 3,
   "metadata": {
    "execution": {
     "iopub.execute_input": "2022-02-22T15:00:06.336029Z",
     "iopub.status.busy": "2022-02-22T15:00:06.327580Z",
     "iopub.status.idle": "2022-02-22T15:00:06.520769Z",
     "shell.execute_reply": "2022-02-22T15:00:06.516963Z",
     "shell.execute_reply.started": "2022-02-22T15:00:06.335827Z"
    }
   },
   "outputs": [
    {
     "name": "stdout",
     "output_type": "stream",
     "text": [
      "sample_submission.csv  test_images  train.csv  train_images\n"
     ]
    }
   ],
   "source": [
    "!ls data/happy-whale-and-dolphin/"
   ]
  },
  {
   "cell_type": "code",
   "execution_count": 4,
   "metadata": {
    "execution": {
     "iopub.execute_input": "2022-02-22T15:00:06.938477Z",
     "iopub.status.busy": "2022-02-22T15:00:06.937662Z",
     "iopub.status.idle": "2022-02-22T15:00:07.053313Z",
     "shell.execute_reply": "2022-02-22T15:00:07.052315Z",
     "shell.execute_reply.started": "2022-02-22T15:00:06.938408Z"
    }
   },
   "outputs": [
    {
     "data": {
      "text/html": [
       "<div>\n",
       "<style scoped>\n",
       "    .dataframe tbody tr th:only-of-type {\n",
       "        vertical-align: middle;\n",
       "    }\n",
       "\n",
       "    .dataframe tbody tr th {\n",
       "        vertical-align: top;\n",
       "    }\n",
       "\n",
       "    .dataframe thead th {\n",
       "        text-align: right;\n",
       "    }\n",
       "</style>\n",
       "<table border=\"1\" class=\"dataframe\">\n",
       "  <thead>\n",
       "    <tr style=\"text-align: right;\">\n",
       "      <th></th>\n",
       "      <th>image</th>\n",
       "      <th>species</th>\n",
       "      <th>individual_id</th>\n",
       "    </tr>\n",
       "  </thead>\n",
       "  <tbody>\n",
       "    <tr>\n",
       "      <th>0</th>\n",
       "      <td>00021adfb725ed.jpg</td>\n",
       "      <td>melon_headed_whale</td>\n",
       "      <td>cadddb1636b9</td>\n",
       "    </tr>\n",
       "    <tr>\n",
       "      <th>1</th>\n",
       "      <td>000562241d384d.jpg</td>\n",
       "      <td>humpback_whale</td>\n",
       "      <td>1a71fbb72250</td>\n",
       "    </tr>\n",
       "    <tr>\n",
       "      <th>2</th>\n",
       "      <td>0007c33415ce37.jpg</td>\n",
       "      <td>false_killer_whale</td>\n",
       "      <td>60008f293a2b</td>\n",
       "    </tr>\n",
       "    <tr>\n",
       "      <th>3</th>\n",
       "      <td>0007d9bca26a99.jpg</td>\n",
       "      <td>bottlenose_dolphin</td>\n",
       "      <td>4b00fe572063</td>\n",
       "    </tr>\n",
       "    <tr>\n",
       "      <th>4</th>\n",
       "      <td>00087baf5cef7a.jpg</td>\n",
       "      <td>humpback_whale</td>\n",
       "      <td>8e5253662392</td>\n",
       "    </tr>\n",
       "    <tr>\n",
       "      <th>...</th>\n",
       "      <td>...</td>\n",
       "      <td>...</td>\n",
       "      <td>...</td>\n",
       "    </tr>\n",
       "    <tr>\n",
       "      <th>51028</th>\n",
       "      <td>fff639a7a78b3f.jpg</td>\n",
       "      <td>beluga</td>\n",
       "      <td>5ac053677ed1</td>\n",
       "    </tr>\n",
       "    <tr>\n",
       "      <th>51029</th>\n",
       "      <td>fff8b32daff17e.jpg</td>\n",
       "      <td>cuviers_beaked_whale</td>\n",
       "      <td>1184686361b3</td>\n",
       "    </tr>\n",
       "    <tr>\n",
       "      <th>51030</th>\n",
       "      <td>fff94675cc1aef.jpg</td>\n",
       "      <td>blue_whale</td>\n",
       "      <td>5401612696b9</td>\n",
       "    </tr>\n",
       "    <tr>\n",
       "      <th>51031</th>\n",
       "      <td>fffbc5dd642d8c.jpg</td>\n",
       "      <td>beluga</td>\n",
       "      <td>4000b3d7c24e</td>\n",
       "    </tr>\n",
       "    <tr>\n",
       "      <th>51032</th>\n",
       "      <td>fffdcd42312777.jpg</td>\n",
       "      <td>bottlenose_dolphin</td>\n",
       "      <td>4ddb2eeb5efb</td>\n",
       "    </tr>\n",
       "  </tbody>\n",
       "</table>\n",
       "<p>51033 rows × 3 columns</p>\n",
       "</div>"
      ],
      "text/plain": [
       "                    image               species individual_id\n",
       "0      00021adfb725ed.jpg    melon_headed_whale  cadddb1636b9\n",
       "1      000562241d384d.jpg        humpback_whale  1a71fbb72250\n",
       "2      0007c33415ce37.jpg    false_killer_whale  60008f293a2b\n",
       "3      0007d9bca26a99.jpg    bottlenose_dolphin  4b00fe572063\n",
       "4      00087baf5cef7a.jpg        humpback_whale  8e5253662392\n",
       "...                   ...                   ...           ...\n",
       "51028  fff639a7a78b3f.jpg                beluga  5ac053677ed1\n",
       "51029  fff8b32daff17e.jpg  cuviers_beaked_whale  1184686361b3\n",
       "51030  fff94675cc1aef.jpg            blue_whale  5401612696b9\n",
       "51031  fffbc5dd642d8c.jpg                beluga  4000b3d7c24e\n",
       "51032  fffdcd42312777.jpg    bottlenose_dolphin  4ddb2eeb5efb\n",
       "\n",
       "[51033 rows x 3 columns]"
      ]
     },
     "execution_count": 4,
     "metadata": {},
     "output_type": "execute_result"
    }
   ],
   "source": [
    "full_train_df = pd.read_csv('data/happy-whale-and-dolphin/train.csv')\n",
    "\n",
    "full_train_df"
   ]
  },
  {
   "cell_type": "code",
   "execution_count": 5,
   "metadata": {
    "execution": {
     "iopub.execute_input": "2022-02-22T15:00:07.682478Z",
     "iopub.status.busy": "2022-02-22T15:00:07.682211Z",
     "iopub.status.idle": "2022-02-22T15:00:07.708151Z",
     "shell.execute_reply": "2022-02-22T15:00:07.704686Z",
     "shell.execute_reply.started": "2022-02-22T15:00:07.682449Z"
    }
   },
   "outputs": [
    {
     "data": {
      "text/plain": [
       "bottlenose_dolphin           9664\n",
       "beluga                       7443\n",
       "humpback_whale               7392\n",
       "blue_whale                   4830\n",
       "false_killer_whale           3326\n",
       "dusky_dolphin                3139\n",
       "spinner_dolphin              1700\n",
       "melon_headed_whale           1689\n",
       "minke_whale                  1608\n",
       "killer_whale                 1493\n",
       "fin_whale                    1324\n",
       "gray_whale                   1123\n",
       "bottlenose_dolpin            1117\n",
       "kiler_whale                   962\n",
       "southern_right_whale          866\n",
       "spotted_dolphin               490\n",
       "sei_whale                     428\n",
       "short_finned_pilot_whale      367\n",
       "common_dolphin                347\n",
       "cuviers_beaked_whale          341\n",
       "pilot_whale                   262\n",
       "long_finned_pilot_whale       238\n",
       "white_sided_dolphin           229\n",
       "brydes_whale                  154\n",
       "pantropic_spotted_dolphin     145\n",
       "globis                        116\n",
       "commersons_dolphin             90\n",
       "pygmy_killer_whale             76\n",
       "rough_toothed_dolphin          60\n",
       "frasiers_dolphin               14\n",
       "Name: species, dtype: int64"
      ]
     },
     "execution_count": 5,
     "metadata": {},
     "output_type": "execute_result"
    }
   ],
   "source": [
    "full_train_df['species'].value_counts()"
   ]
  },
  {
   "cell_type": "markdown",
   "metadata": {},
   "source": [
    "Some of the species names are incorrect (e.g. \"kiler_whale\") or have duplicate entries (e.g. \"globis\" and \"pilot_whale\" for \"short_finned_pilot_whale\"), so we'll fix that here."
   ]
  },
  {
   "cell_type": "code",
   "execution_count": 6,
   "metadata": {
    "execution": {
     "iopub.execute_input": "2022-02-22T15:00:08.326159Z",
     "iopub.status.busy": "2022-02-22T15:00:08.325876Z",
     "iopub.status.idle": "2022-02-22T15:00:08.358580Z",
     "shell.execute_reply": "2022-02-22T15:00:08.357292Z",
     "shell.execute_reply.started": "2022-02-22T15:00:08.326127Z"
    }
   },
   "outputs": [
    {
     "data": {
      "text/plain": [
       "bottlenose_dolphin           10781\n",
       "beluga                        7443\n",
       "humpback_whale                7392\n",
       "blue_whale                    4830\n",
       "false_killer_whale            3326\n",
       "dusky_dolphin                 3139\n",
       "killer_whale                  2455\n",
       "spinner_dolphin               1700\n",
       "melon_headed_whale            1689\n",
       "minke_whale                   1608\n",
       "fin_whale                     1324\n",
       "gray_whale                    1123\n",
       "southern_right_whale           866\n",
       "short_finned_pilot_whale       745\n",
       "spotted_dolphin                490\n",
       "sei_whale                      428\n",
       "common_dolphin                 347\n",
       "cuviers_beaked_whale           341\n",
       "long_finned_pilot_whale        238\n",
       "white_sided_dolphin            229\n",
       "brydes_whale                   154\n",
       "pantropic_spotted_dolphin      145\n",
       "commersons_dolphin              90\n",
       "pygmy_killer_whale              76\n",
       "rough_toothed_dolphin           60\n",
       "frasiers_dolphin                14\n",
       "Name: species, dtype: int64"
      ]
     },
     "execution_count": 6,
     "metadata": {},
     "output_type": "execute_result"
    }
   ],
   "source": [
    "full_train_df['species'].replace({\"globis\": \"short_finned_pilot_whale\",\n",
    "                          \"pilot_whale\": \"short_finned_pilot_whale\",\n",
    "                          \"kiler_whale\": \"killer_whale\",\n",
    "                          \"bottlenose_dolpin\": \"bottlenose_dolphin\"}, inplace=True)\n",
    "\n",
    "full_train_df['species'].value_counts()"
   ]
  },
  {
   "cell_type": "code",
   "execution_count": 44,
   "metadata": {
    "execution": {
     "iopub.execute_input": "2022-02-22T16:01:56.553315Z",
     "iopub.status.busy": "2022-02-22T16:01:56.552752Z",
     "iopub.status.idle": "2022-02-22T16:01:57.416310Z",
     "shell.execute_reply": "2022-02-22T16:01:57.415030Z",
     "shell.execute_reply.started": "2022-02-22T16:01:56.553268Z"
    }
   },
   "outputs": [
    {
     "data": {
      "image/png": "[encoded data removed]",
      "text/plain": [
       "<Figure size 432x288 with 1 Axes>"
      ]
     },
     "metadata": {
      "needs_background": "light"
     },
     "output_type": "display_data"
    }
   ],
   "source": [
    "full_train_df['species'].value_counts().plot.bar();"
   ]
  },
  {
   "cell_type": "markdown",
   "metadata": {},
   "source": [
    "# PUT SOME IMAGES AND STUFF HERE***"
   ]
  },
  {
   "cell_type": "code",
   "execution_count": null,
   "metadata": {},
   "outputs": [],
   "source": []
  },
  {
   "cell_type": "markdown",
   "metadata": {},
   "source": [
    "# Creating train/val/test splits\n",
    "\n",
    "First, we'll make a new folder structure to house our own local train/val/test split."
   ]
  },
  {
   "cell_type": "code",
   "execution_count": 7,
   "metadata": {
    "execution": {
     "iopub.execute_input": "2022-02-22T15:00:09.054321Z",
     "iopub.status.busy": "2022-02-22T15:00:09.053748Z",
     "iopub.status.idle": "2022-02-22T15:00:09.060581Z",
     "shell.execute_reply": "2022-02-22T15:00:09.059027Z",
     "shell.execute_reply.started": "2022-02-22T15:00:09.054256Z"
    }
   },
   "outputs": [],
   "source": [
    "kaggle_data_dir = 'data/happy-whale-and-dolphin/train_images'\n",
    "local_split_dir = 'data/local_split'"
   ]
  },
  {
   "cell_type": "code",
   "execution_count": 34,
   "metadata": {
    "execution": {
     "iopub.execute_input": "2022-02-22T15:42:17.236461Z",
     "iopub.status.busy": "2022-02-22T15:42:17.236083Z",
     "iopub.status.idle": "2022-02-22T15:42:17.280901Z",
     "shell.execute_reply": "2022-02-22T15:42:17.279709Z",
     "shell.execute_reply.started": "2022-02-22T15:42:17.236419Z"
    }
   },
   "outputs": [
    {
     "data": {
      "text/plain": [
       "['00021adfb725ed.jpg',\n",
       " '000562241d384d.jpg',\n",
       " '0007c33415ce37.jpg',\n",
       " '0007d9bca26a99.jpg',\n",
       " '00087baf5cef7a.jpg',\n",
       " '000a8f2d5c316a.jpg',\n",
       " '000be9acf46619.jpg',\n",
       " '000bef247c7a42.jpg',\n",
       " '000c3d63069748.jpg',\n",
       " '000c476c11bad5.jpg']"
      ]
     },
     "execution_count": 34,
     "metadata": {},
     "output_type": "execute_result"
    }
   ],
   "source": [
    "local_dataset_imgs_names = [file for file in os.listdir(kaggle_data_dir)]\n",
    "local_dataset_imgs_names[0:10]"
   ]
  },
  {
   "cell_type": "code",
   "execution_count": 35,
   "metadata": {
    "execution": {
     "iopub.execute_input": "2022-02-22T15:42:19.338545Z",
     "iopub.status.busy": "2022-02-22T15:42:19.338186Z",
     "iopub.status.idle": "2022-02-22T15:42:19.346234Z",
     "shell.execute_reply": "2022-02-22T15:42:19.344575Z",
     "shell.execute_reply.started": "2022-02-22T15:42:19.338484Z"
    }
   },
   "outputs": [
    {
     "name": "stdout",
     "output_type": "stream",
     "text": [
      "There are 51033 whale and dolphin images to be split.\n"
     ]
    }
   ],
   "source": [
    "print('There are', len(local_dataset_imgs_names), 'whale and dolphin images to be split.')"
   ]
  },
  {
   "cell_type": "code",
   "execution_count": 27,
   "metadata": {
    "execution": {
     "iopub.execute_input": "2022-02-22T15:30:23.224230Z",
     "iopub.status.busy": "2022-02-22T15:30:23.223442Z",
     "iopub.status.idle": "2022-02-22T15:30:23.239450Z",
     "shell.execute_reply": "2022-02-22T15:30:23.232659Z",
     "shell.execute_reply.started": "2022-02-22T15:30:23.224122Z"
    }
   },
   "outputs": [],
   "source": [
    "train_folder = os.path.join(local_split_dir, 'train')\n",
    "val_folder = os.path.join(local_split_dir, 'validation')\n",
    "test_folder = os.path.join(local_split_dir, 'test')"
   ]
  },
  {
   "cell_type": "code",
   "execution_count": 146,
   "metadata": {
    "execution": {
     "iopub.execute_input": "2022-02-22T19:45:18.817138Z",
     "iopub.status.busy": "2022-02-22T19:45:18.816410Z",
     "iopub.status.idle": "2022-02-22T19:45:18.829922Z",
     "shell.execute_reply": "2022-02-22T19:45:18.827631Z",
     "shell.execute_reply.started": "2022-02-22T19:45:18.817063Z"
    }
   },
   "outputs": [],
   "source": [
    "train_folder_sp = os.path.join(local_split_dir, 'sp/train')\n",
    "val_folder_sp = os.path.join(local_split_dir, 'sp/validation')\n",
    "test_folder_sp = os.path.join(local_split_dir, 'sp/test')\n",
    "\n",
    "train_folder_id = os.path.join(local_split_dir, 'id/train')\n",
    "val_folder_id = os.path.join(local_split_dir, 'id/validation')\n",
    "test_folder_id = os.path.join(local_split_dir, 'id/test')"
   ]
  },
  {
   "cell_type": "markdown",
   "metadata": {},
   "source": [
    "Only run the below cell during initial setup."
   ]
  },
  {
   "cell_type": "code",
   "execution_count": 10,
   "metadata": {
    "execution": {
     "iopub.execute_input": "2022-02-22T15:00:11.891155Z",
     "iopub.status.busy": "2022-02-22T15:00:11.889563Z",
     "iopub.status.idle": "2022-02-22T15:00:11.923682Z",
     "shell.execute_reply": "2022-02-22T15:00:11.920971Z",
     "shell.execute_reply.started": "2022-02-22T15:00:11.891048Z"
    }
   },
   "outputs": [],
   "source": [
    "# os.mkdir(local_split_dir)\n",
    "\n",
    "# os.mkdir(train_folder_sp)\n",
    "# os.mkdir(val_folder_sp)\n",
    "# os.mkdir(test_folder_sp)\n",
    "\n",
    "# os.mkdir(train_folder_id)\n",
    "# os.mkdir(val_folder_id)\n",
    "# os.mkdir(test_folder_id)"
   ]
  },
  {
   "cell_type": "markdown",
   "metadata": {},
   "source": [
    "### The train/val/test split on the dataframe"
   ]
  },
  {
   "cell_type": "code",
   "execution_count": 21,
   "metadata": {
    "execution": {
     "iopub.execute_input": "2022-02-22T15:27:45.661902Z",
     "iopub.status.busy": "2022-02-22T15:27:45.661334Z",
     "iopub.status.idle": "2022-02-22T15:27:45.679722Z",
     "shell.execute_reply": "2022-02-22T15:27:45.678853Z",
     "shell.execute_reply.started": "2022-02-22T15:27:45.661829Z"
    }
   },
   "outputs": [],
   "source": [
    "train_val_df, test_df = train_test_split(full_train_df, test_size=.05, random_state=random_state)"
   ]
  },
  {
   "cell_type": "code",
   "execution_count": 23,
   "metadata": {
    "execution": {
     "iopub.execute_input": "2022-02-22T15:28:29.730577Z",
     "iopub.status.busy": "2022-02-22T15:28:29.730187Z",
     "iopub.status.idle": "2022-02-22T15:28:29.750952Z",
     "shell.execute_reply": "2022-02-22T15:28:29.749378Z",
     "shell.execute_reply.started": "2022-02-22T15:28:29.730520Z"
    }
   },
   "outputs": [],
   "source": [
    "train_df, val_df = train_test_split(train_val_df, test_size=.05, random_state=random_state)"
   ]
  },
  {
   "cell_type": "code",
   "execution_count": 30,
   "metadata": {
    "execution": {
     "iopub.execute_input": "2022-02-22T15:33:19.296439Z",
     "iopub.status.busy": "2022-02-22T15:33:19.295990Z",
     "iopub.status.idle": "2022-02-22T15:33:19.313842Z",
     "shell.execute_reply": "2022-02-22T15:33:19.309998Z",
     "shell.execute_reply.started": "2022-02-22T15:33:19.296387Z"
    }
   },
   "outputs": [],
   "source": [
    "train_imgs_names = list(train_df['image'].values)\n",
    "val_imgs_names = list(val_df['image'].values)\n",
    "test_imgs_names = list(test_df['image'].values)"
   ]
  },
  {
   "cell_type": "markdown",
   "metadata": {},
   "source": [
    "Now we'll copy the images from kaggle's train folder into our new folder structure, according to the train/val/test split we just performed on the dataframe.\n",
    "\n",
    "Only run this cell during initial setup."
   ]
  },
  {
   "cell_type": "code",
   "execution_count": 36,
   "metadata": {
    "execution": {
     "iopub.execute_input": "2022-02-22T15:44:59.294307Z",
     "iopub.status.busy": "2022-02-22T15:44:59.293873Z",
     "iopub.status.idle": "2022-02-22T15:56:37.946805Z",
     "shell.execute_reply": "2022-02-22T15:56:37.942300Z",
     "shell.execute_reply.started": "2022-02-22T15:44:59.294256Z"
    }
   },
   "outputs": [],
   "source": [
    "# # copy train images\n",
    "# for image in train_imgs_names:\n",
    "#     origin = os.path.join(kaggle_data_dir, image)\n",
    "#     destination = os.path.join(train_folder, image)\n",
    "#     shutil.copyfile(origin, destination)\n",
    "    \n",
    "# # copy val images\n",
    "# for image in val_imgs_names:\n",
    "#     origin = os.path.join(kaggle_data_dir, image)\n",
    "#     destination = os.path.join(val_folder, image)\n",
    "#     shutil.copyfile(origin, destination)\n",
    "    \n",
    "# # copy test images\n",
    "# for image in test_imgs_names:\n",
    "#     origin = os.path.join(kaggle_data_dir, image)\n",
    "#     destination = os.path.join(test_folder, image)\n",
    "#     shutil.copyfile(origin, destination)"
   ]
  },
  {
   "cell_type": "markdown",
   "metadata": {},
   "source": [
    "Lastly, because of the version of TensorFlow we're using (2.5), the image_dataset_from_directory function expects the images to not be in subdirectories, so we'll make an 'images' folder inside each of our train, val, and test folders and move each image into those subfolders. If using a later version of TF, dont' run the next two cells (you'll also need to have adjusted the module address in the first import cell)."
   ]
  },
  {
   "cell_type": "code",
   "execution_count": 126,
   "metadata": {
    "execution": {
     "iopub.execute_input": "2022-02-22T18:36:50.778597Z",
     "iopub.status.busy": "2022-02-22T18:36:50.778167Z",
     "iopub.status.idle": "2022-02-22T18:36:50.790189Z",
     "shell.execute_reply": "2022-02-22T18:36:50.789076Z",
     "shell.execute_reply.started": "2022-02-22T18:36:50.778469Z"
    }
   },
   "outputs": [],
   "source": [
    "# train_folder_images = os.path.join(train_folder, 'images')\n",
    "# val_folder_images = os.path.join(val_folder, 'images')\n",
    "# test_folder_images = os.path.join(test_folder, 'images')\n",
    "\n",
    "# os.mkdir(train_folder_images)\n",
    "# os.mkdir(val_folder_images)\n",
    "# os.mkdir(test_folder_images)"
   ]
  },
  {
   "cell_type": "code",
   "execution_count": 133,
   "metadata": {
    "execution": {
     "iopub.execute_input": "2022-02-22T19:05:53.752300Z",
     "iopub.status.busy": "2022-02-22T19:05:53.751889Z",
     "iopub.status.idle": "2022-02-22T19:05:56.594040Z",
     "shell.execute_reply": "2022-02-22T19:05:56.593009Z",
     "shell.execute_reply.started": "2022-02-22T19:05:53.752255Z"
    }
   },
   "outputs": [],
   "source": [
    "# # move train images\n",
    "# train_imgs_names = [file for file in os.listdir(train_folder) if file.endswith('jpg')]\n",
    "# for image in train_imgs_names:\n",
    "#     origin = os.path.join(train_folder, image)\n",
    "#     destination = os.path.join(train_folder_images, image)\n",
    "#     shutil.move(origin, destination)\n",
    "    \n",
    "# # move val images\n",
    "# val_imgs_names = [file for file in os.listdir(val_folder) if file.endswith('jpg')]\n",
    "# for image in val_imgs_names:\n",
    "#     origin = os.path.join(val_folder, image)\n",
    "#     destination = os.path.join(val_folder_images, image)\n",
    "#     shutil.move(origin, destination)\n",
    "    \n",
    "# # move test images\n",
    "# test_imgs_names = [file for file in os.listdir(test_folder) if file.endswith('jpg')]\n",
    "# for image in test_imgs_names:\n",
    "#     origin = os.path.join(test_folder, image)\n",
    "#     destination = os.path.join(test_folder_images, image)\n",
    "#     shutil.move(origin, destination)"
   ]
  },
  {
   "cell_type": "code",
   "execution_count": 137,
   "metadata": {
    "execution": {
     "iopub.execute_input": "2022-02-22T19:09:03.824492Z",
     "iopub.status.busy": "2022-02-22T19:09:03.823516Z",
     "iopub.status.idle": "2022-02-22T19:09:03.884885Z",
     "shell.execute_reply": "2022-02-22T19:09:03.883840Z",
     "shell.execute_reply.started": "2022-02-22T19:09:03.824420Z"
    }
   },
   "outputs": [
    {
     "name": "stdout",
     "output_type": "stream",
     "text": [
      "There are 46056 images in the training set.\n",
      "There are 2425 images in the validation set.\n",
      "There are 2552 images in the test set.\n"
     ]
    }
   ],
   "source": [
    "print('There are', len(os.listdir(train_folder)), 'images in the training set.')\n",
    "print('There are', len(os.listdir(val_folder)), 'images in the validation set.')\n",
    "print('There are', len(os.listdir(test_folder)), 'images in the test set.')"
   ]
  },
  {
   "cell_type": "markdown",
   "metadata": {},
   "source": [
    "### Duplicating the dataset and creating folders for each subclass"
   ]
  },
  {
   "cell_type": "code",
   "execution_count": 147,
   "metadata": {
    "execution": {
     "iopub.execute_input": "2022-02-22T19:52:39.782041Z",
     "iopub.status.busy": "2022-02-22T19:52:39.781662Z",
     "iopub.status.idle": "2022-02-22T19:52:39.788027Z",
     "shell.execute_reply": "2022-02-22T19:52:39.786954Z",
     "shell.execute_reply.started": "2022-02-22T19:52:39.781997Z"
    }
   },
   "outputs": [],
   "source": [
    "os.mkdir('data/local_split/sp')\n",
    "os.mkdir('data/local_split/id')"
   ]
  },
  {
   "cell_type": "code",
   "execution_count": null,
   "metadata": {},
   "outputs": [],
   "source": [
    "for folder in os.listdir('data/local_split'):"
   ]
  },
  {
   "cell_type": "code",
   "execution_count": 139,
   "metadata": {
    "execution": {
     "iopub.execute_input": "2022-02-22T19:38:49.871056Z",
     "iopub.status.busy": "2022-02-22T19:38:49.870641Z",
     "iopub.status.idle": "2022-02-22T19:38:49.880706Z",
     "shell.execute_reply": "2022-02-22T19:38:49.878578Z",
     "shell.execute_reply.started": "2022-02-22T19:38:49.871001Z"
    }
   },
   "outputs": [
    {
     "name": "stdout",
     "output_type": "stream",
     "text": [
      "train\n",
      "validation\n",
      "test\n"
     ]
    }
   ],
   "source": [
    "for folder in os.listdir('data/local_split'):\n",
    "    for i in range(0, len(folder)):\n",
    "        "
   ]
  },
  {
   "cell_type": "code",
   "execution_count": 145,
   "metadata": {
    "execution": {
     "iopub.execute_input": "2022-02-22T19:41:15.434477Z",
     "iopub.status.busy": "2022-02-22T19:41:15.433947Z",
     "iopub.status.idle": "2022-02-22T19:41:15.476175Z",
     "shell.execute_reply": "2022-02-22T19:41:15.475077Z",
     "shell.execute_reply.started": "2022-02-22T19:41:15.434415Z"
    }
   },
   "outputs": [],
   "source": [
    "for i in range(0, len(os.listdir('data/local_split/train'))):"
   ]
  },
  {
   "cell_type": "code",
   "execution_count": null,
   "metadata": {},
   "outputs": [],
   "source": []
  },
  {
   "cell_type": "code",
   "execution_count": null,
   "metadata": {},
   "outputs": [],
   "source": []
  },
  {
   "cell_type": "code",
   "execution_count": null,
   "metadata": {},
   "outputs": [],
   "source": []
  },
  {
   "cell_type": "code",
   "execution_count": null,
   "metadata": {},
   "outputs": [],
   "source": []
  },
  {
   "cell_type": "code",
   "execution_count": null,
   "metadata": {},
   "outputs": [],
   "source": []
  },
  {
   "cell_type": "markdown",
   "metadata": {},
   "source": [
    "1. Make local_split folder\n",
    "2. Make id and sp folders inside local_split\n",
    "3. Make train, val, and test folders inside id AND sp\n",
    "4. Make class subfolders inside all six folders (train, val, test inside both of id AND sp)\n",
    "5. Copy files from Kaggle folder to train, val, and test folders sp AND to train, val, and test folders id"
   ]
  },
  {
   "cell_type": "code",
   "execution_count": null,
   "metadata": {},
   "outputs": [],
   "source": []
  },
  {
   "cell_type": "code",
   "execution_count": null,
   "metadata": {},
   "outputs": [],
   "source": []
  },
  {
   "cell_type": "code",
   "execution_count": null,
   "metadata": {},
   "outputs": [],
   "source": []
  },
  {
   "cell_type": "code",
   "execution_count": null,
   "metadata": {},
   "outputs": [],
   "source": []
  },
  {
   "cell_type": "code",
   "execution_count": null,
   "metadata": {},
   "outputs": [],
   "source": []
  },
  {
   "cell_type": "code",
   "execution_count": null,
   "metadata": {},
   "outputs": [],
   "source": []
  },
  {
   "cell_type": "code",
   "execution_count": null,
   "metadata": {},
   "outputs": [],
   "source": []
  },
  {
   "cell_type": "code",
   "execution_count": null,
   "metadata": {},
   "outputs": [],
   "source": []
  },
  {
   "cell_type": "code",
   "execution_count": null,
   "metadata": {},
   "outputs": [],
   "source": []
  },
  {
   "cell_type": "code",
   "execution_count": null,
   "metadata": {},
   "outputs": [],
   "source": []
  },
  {
   "cell_type": "code",
   "execution_count": null,
   "metadata": {},
   "outputs": [],
   "source": []
  },
  {
   "cell_type": "code",
   "execution_count": null,
   "metadata": {},
   "outputs": [],
   "source": []
  },
  {
   "cell_type": "code",
   "execution_count": null,
   "metadata": {},
   "outputs": [],
   "source": []
  },
  {
   "cell_type": "code",
   "execution_count": null,
   "metadata": {},
   "outputs": [],
   "source": []
  },
  {
   "cell_type": "code",
   "execution_count": null,
   "metadata": {},
   "outputs": [],
   "source": []
  },
  {
   "cell_type": "code",
   "execution_count": null,
   "metadata": {},
   "outputs": [],
   "source": []
  },
  {
   "cell_type": "code",
   "execution_count": null,
   "metadata": {},
   "outputs": [],
   "source": []
  },
  {
   "cell_type": "code",
   "execution_count": null,
   "metadata": {},
   "outputs": [],
   "source": []
  },
  {
   "cell_type": "code",
   "execution_count": null,
   "metadata": {},
   "outputs": [],
   "source": []
  },
  {
   "cell_type": "code",
   "execution_count": null,
   "metadata": {},
   "outputs": [],
   "source": []
  },
  {
   "cell_type": "code",
   "execution_count": null,
   "metadata": {},
   "outputs": [],
   "source": []
  },
  {
   "cell_type": "code",
   "execution_count": null,
   "metadata": {},
   "outputs": [],
   "source": []
  },
  {
   "cell_type": "code",
   "execution_count": null,
   "metadata": {},
   "outputs": [],
   "source": []
  },
  {
   "cell_type": "code",
   "execution_count": null,
   "metadata": {},
   "outputs": [],
   "source": []
  },
  {
   "cell_type": "code",
   "execution_count": null,
   "metadata": {},
   "outputs": [],
   "source": []
  },
  {
   "cell_type": "code",
   "execution_count": null,
   "metadata": {},
   "outputs": [],
   "source": []
  },
  {
   "cell_type": "code",
   "execution_count": null,
   "metadata": {},
   "outputs": [],
   "source": []
  },
  {
   "cell_type": "code",
   "execution_count": null,
   "metadata": {},
   "outputs": [],
   "source": []
  },
  {
   "cell_type": "markdown",
   "metadata": {},
   "source": [
    "# Creating subfolders for each class"
   ]
  },
  {
   "cell_type": "code",
   "execution_count": 183,
   "metadata": {
    "execution": {
     "iopub.execute_input": "2022-02-22T20:17:02.278223Z",
     "iopub.status.busy": "2022-02-22T20:17:02.277806Z",
     "iopub.status.idle": "2022-02-22T20:17:02.292113Z",
     "shell.execute_reply": "2022-02-22T20:17:02.290682Z",
     "shell.execute_reply.started": "2022-02-22T20:17:02.278171Z"
    }
   },
   "outputs": [],
   "source": [
    "# Make subfolders for each class\n",
    "\n",
    "for class_name in full_train_df['species'].unique():\n",
    "    os.mkdir(os.path.join('data/local_split/sp', class_name))\n",
    "    \n",
    "for class_name in full_train_df['individual_id'].unique():\n",
    "    os.mkdir(os.path.join('data/local_split/id', class_name))"
   ]
  },
  {
   "cell_type": "code",
   "execution_count": 184,
   "metadata": {
    "execution": {
     "iopub.execute_input": "2022-02-22T20:17:50.896870Z",
     "iopub.status.busy": "2022-02-22T20:17:50.896423Z",
     "iopub.status.idle": "2022-02-22T20:17:51.560938Z",
     "shell.execute_reply": "2022-02-22T20:17:51.559453Z",
     "shell.execute_reply.started": "2022-02-22T20:17:50.896819Z"
    }
   },
   "outputs": [],
   "source": [
    "# Move each image to the appropriate subfolder"
   ]
  },
  {
   "cell_type": "code",
   "execution_count": null,
   "metadata": {},
   "outputs": [],
   "source": []
  },
  {
   "cell_type": "code",
   "execution_count": null,
   "metadata": {},
   "outputs": [],
   "source": []
  },
  {
   "cell_type": "code",
   "execution_count": null,
   "metadata": {},
   "outputs": [],
   "source": []
  },
  {
   "cell_type": "code",
   "execution_count": 176,
   "metadata": {
    "execution": {
     "iopub.execute_input": "2022-02-22T20:12:40.210576Z",
     "iopub.status.busy": "2022-02-22T20:12:40.210242Z",
     "iopub.status.idle": "2022-02-22T20:12:40.229910Z",
     "shell.execute_reply": "2022-02-22T20:12:40.228465Z",
     "shell.execute_reply.started": "2022-02-22T20:12:40.210530Z"
    }
   },
   "outputs": [
    {
     "data": {
      "text/plain": [
       "'4b00fe572063'"
      ]
     },
     "execution_count": 176,
     "metadata": {},
     "output_type": "execute_result"
    }
   ],
   "source": [
    "full_train_df[full_train_df['image'] == image]['species'].values[0]\n",
    "full_train_df[full_train_df['image'] == image]['individual_id'].values[0]"
   ]
  },
  {
   "cell_type": "code",
   "execution_count": null,
   "metadata": {},
   "outputs": [],
   "source": []
  },
  {
   "cell_type": "markdown",
   "metadata": {},
   "source": [
    "# BELOW ASSUMES ID AND SP FOLDERS WITH TRAIN, VALIDATION, AND TEST FOLDERS WITHIN"
   ]
  },
  {
   "cell_type": "code",
   "execution_count": 195,
   "metadata": {
    "execution": {
     "iopub.execute_input": "2022-02-22T20:42:58.085905Z",
     "iopub.status.busy": "2022-02-22T20:42:58.085521Z",
     "iopub.status.idle": "2022-02-22T20:53:47.826481Z",
     "shell.execute_reply": "2022-02-22T20:53:47.825341Z",
     "shell.execute_reply.started": "2022-02-22T20:42:58.085849Z"
    }
   },
   "outputs": [],
   "source": [
    "# Move all images in 'sp' to correct species subfolders\n",
    "for folder in os.listdir('data/local_split/sp'):\n",
    "    if folder in ['train', 'test', 'validation']:\n",
    "        files = [file for file in os.listdir(os.path.join('data/local_split/sp', folder)) if file.endswith('jpg')]\n",
    "        for image in files:\n",
    "            species = full_train_df[full_train_df['image'] == image]['species'].values[0]\n",
    "            origin = os.path.join('data/local_split/sp', folder, image)\n",
    "            destination = os.path.join('data/local_split/sp', species)\n",
    "            shutil.move(origin, destination)\n",
    "\n",
    "# Move all images in 'id' to correct individual_id subfolders\n",
    "for folder in os.listdir('data/local_split/id'):\n",
    "    if folder in ['train', 'test', 'validation']:\n",
    "        files = [file for file in os.listdir(os.path.join('data/local_split/id', folder)) if file.endswith('jpg')]\n",
    "        for image in files:\n",
    "            individual_id = full_train_df[full_train_df['image'] == image]['individual_id'].values[0]\n",
    "            origin = os.path.join('data/local_split/id', folder, image)\n",
    "            destination = os.path.join('data/local_split/id', individual_id)\n",
    "            shutil.move(origin, destination)            "
   ]
  },
  {
   "cell_type": "code",
   "execution_count": 194,
   "metadata": {
    "execution": {
     "iopub.execute_input": "2022-02-22T20:41:52.063758Z",
     "iopub.status.busy": "2022-02-22T20:41:52.063392Z",
     "iopub.status.idle": "2022-02-22T20:41:52.081794Z",
     "shell.execute_reply": "2022-02-22T20:41:52.080164Z",
     "shell.execute_reply.started": "2022-02-22T20:41:52.063713Z"
    }
   },
   "outputs": [
    {
     "data": {
      "text/plain": [
       "'false_killer_whale'"
      ]
     },
     "execution_count": 194,
     "metadata": {},
     "output_type": "execute_result"
    }
   ],
   "source": [
    "full_train_df[full_train_df['image'] == '0007c33415ce37.jpg']['species'].values[0]"
   ]
  },
  {
   "cell_type": "code",
   "execution_count": null,
   "metadata": {},
   "outputs": [],
   "source": [
    "full_train_df\n"
   ]
  },
  {
   "cell_type": "code",
   "execution_count": null,
   "metadata": {},
   "outputs": [],
   "source": []
  },
  {
   "cell_type": "code",
   "execution_count": null,
   "metadata": {},
   "outputs": [],
   "source": []
  },
  {
   "cell_type": "code",
   "execution_count": null,
   "metadata": {},
   "outputs": [],
   "source": []
  },
  {
   "cell_type": "code",
   "execution_count": 147,
   "metadata": {
    "execution": {
     "iopub.execute_input": "2022-02-22T19:52:39.782041Z",
     "iopub.status.busy": "2022-02-22T19:52:39.781662Z",
     "iopub.status.idle": "2022-02-22T19:52:39.788027Z",
     "shell.execute_reply": "2022-02-22T19:52:39.786954Z",
     "shell.execute_reply.started": "2022-02-22T19:52:39.781997Z"
    }
   },
   "outputs": [],
   "source": [
    "os.mkdir('data/local_split/sp')\n",
    "os.mkdir('data/local_split/id')"
   ]
  },
  {
   "cell_type": "code",
   "execution_count": 199,
   "metadata": {
    "execution": {
     "iopub.execute_input": "2022-02-22T21:53:02.493740Z",
     "iopub.status.busy": "2022-02-22T21:53:02.490119Z",
     "iopub.status.idle": "2022-02-22T21:53:04.158282Z",
     "shell.execute_reply": "2022-02-22T21:53:04.157198Z",
     "shell.execute_reply.started": "2022-02-22T21:53:02.493619Z"
    }
   },
   "outputs": [],
   "source": [
    "# Make subfolders for each class\n",
    "\n",
    "for class_name in full_train_df['species'].unique():\n",
    "    for folder in ['train', 'validation', 'test']:\n",
    "        os.mkdir(os.path.join('data/local_split/sp', folder, class_name))\n",
    "    \n",
    "for class_name in full_train_df['individual_id'].unique():\n",
    "    for folder in ['train', 'validation', 'test']:\n",
    "        os.mkdir(os.path.join('data/local_split/id', folder, class_name))"
   ]
  },
  {
   "cell_type": "code",
   "execution_count": 36,
   "metadata": {
    "execution": {
     "iopub.execute_input": "2022-02-22T15:44:59.294307Z",
     "iopub.status.busy": "2022-02-22T15:44:59.293873Z",
     "iopub.status.idle": "2022-02-22T15:56:37.946805Z",
     "shell.execute_reply": "2022-02-22T15:56:37.942300Z",
     "shell.execute_reply.started": "2022-02-22T15:44:59.294256Z"
    }
   },
   "outputs": [],
   "source": [
    "# # copy train images\n",
    "# for image in train_imgs_names:\n",
    "#     origin = os.path.join(kaggle_data_dir, image)\n",
    "#     destination = os.path.join(train_folder, image)\n",
    "#     shutil.copyfile(origin, destination)\n",
    "    \n",
    "# # copy val images\n",
    "# for image in val_imgs_names:\n",
    "#     origin = os.path.join(kaggle_data_dir, image)\n",
    "#     destination = os.path.join(val_folder, image)\n",
    "#     shutil.copyfile(origin, destination)\n",
    "    \n",
    "# # copy test images\n",
    "# for image in test_imgs_names:\n",
    "#     origin = os.path.join(kaggle_data_dir, image)\n",
    "#     destination = os.path.join(test_folder, image)\n",
    "#     shutil.copyfile(origin, destination)"
   ]
  },
  {
   "cell_type": "code",
   "execution_count": null,
   "metadata": {},
   "outputs": [],
   "source": []
  },
  {
   "cell_type": "code",
   "execution_count": null,
   "metadata": {},
   "outputs": [],
   "source": []
  },
  {
   "cell_type": "code",
   "execution_count": null,
   "metadata": {},
   "outputs": [],
   "source": []
  },
  {
   "cell_type": "code",
   "execution_count": null,
   "metadata": {},
   "outputs": [],
   "source": []
  },
  {
   "cell_type": "code",
   "execution_count": null,
   "metadata": {},
   "outputs": [],
   "source": []
  },
  {
   "cell_type": "code",
   "execution_count": 195,
   "metadata": {
    "execution": {
     "iopub.execute_input": "2022-02-22T20:42:58.085905Z",
     "iopub.status.busy": "2022-02-22T20:42:58.085521Z",
     "iopub.status.idle": "2022-02-22T20:53:47.826481Z",
     "shell.execute_reply": "2022-02-22T20:53:47.825341Z",
     "shell.execute_reply.started": "2022-02-22T20:42:58.085849Z"
    }
   },
   "outputs": [],
   "source": [
    "# Move all images in 'sp' to correct species subfolders\n",
    "for folder in os.listdir('data/local_split/sp'):\n",
    "    if folder in ['train', 'test', 'validation']:\n",
    "        files = [file for file in os.listdir(os.path.join('data/local_split/sp', folder)) if file.endswith('jpg')]\n",
    "        for image in files:\n",
    "            species = full_train_df[full_train_df['image'] == image]['species'].values[0]\n",
    "            origin = os.path.join('data/local_split/sp', folder, image)\n",
    "            destination = os.path.join('data/local_split/sp', species)\n",
    "            shutil.move(origin, destination)\n",
    "\n",
    "# Move all images in 'id' to correct individual_id subfolders\n",
    "for folder in os.listdir('data/local_split/id'):\n",
    "    if folder in ['train', 'test', 'validation']:\n",
    "        files = [file for file in os.listdir(os.path.join('data/local_split/id', folder)) if file.endswith('jpg')]\n",
    "        for image in files:\n",
    "            individual_id = full_train_df[full_train_df['image'] == image]['individual_id'].values[0]\n",
    "            origin = os.path.join('data/local_split/id', folder, image)\n",
    "            destination = os.path.join('data/local_split/id', individual_id)\n",
    "            shutil.move(origin, destination)            "
   ]
  },
  {
   "cell_type": "code",
   "execution_count": null,
   "metadata": {},
   "outputs": [],
   "source": []
  },
  {
   "cell_type": "markdown",
   "metadata": {},
   "source": [
    "### Creating the dataset in TensorFlow"
   ]
  },
  {
   "cell_type": "markdown",
   "metadata": {},
   "source": [
    "We'll have two sets of labels, one for species and one for individual ids. This way, we can start by building models that only predict the species. If these models are successful, we'll move on to predicting the individuals."
   ]
  },
  {
   "cell_type": "code",
   "execution_count": null,
   "metadata": {},
   "outputs": [],
   "source": []
  },
  {
   "cell_type": "code",
   "execution_count": 110,
   "metadata": {
    "execution": {
     "iopub.execute_input": "2022-02-22T17:43:36.349043Z",
     "iopub.status.busy": "2022-02-22T17:43:36.348564Z",
     "iopub.status.idle": "2022-02-22T17:43:36.394294Z",
     "shell.execute_reply": "2022-02-22T17:43:36.392035Z",
     "shell.execute_reply.started": "2022-02-22T17:43:36.348990Z"
    }
   },
   "outputs": [],
   "source": [
    "train_labels_sp = list(train_df['species'])\n",
    "train_labels_id = list(train_df['individual_id'])\n",
    "val_labels_sp = list(val_df['species'])\n",
    "val_labels_id = list(val_df['individual_id'])\n",
    "test_labels_sp = list(test_df['species'])\n",
    "test_labels_id = list(test_df['individual_id'])"
   ]
  },
  {
   "cell_type": "markdown",
   "metadata": {},
   "source": [
    "Next, we'll verify that the dataframes are in alphanumeric order (so that the labels match up with the correct images)."
   ]
  },
  {
   "cell_type": "code",
   "execution_count": 105,
   "metadata": {
    "execution": {
     "iopub.execute_input": "2022-02-22T17:38:10.246442Z",
     "iopub.status.busy": "2022-02-22T17:38:10.245462Z",
     "iopub.status.idle": "2022-02-22T17:38:10.343255Z",
     "shell.execute_reply": "2022-02-22T17:38:10.342295Z",
     "shell.execute_reply.started": "2022-02-22T17:38:10.246363Z"
    }
   },
   "outputs": [
    {
     "data": {
      "text/plain": [
       "True"
      ]
     },
     "execution_count": 105,
     "metadata": {},
     "output_type": "execute_result"
    }
   ],
   "source": [
    "list(os.walk(train_folder))[0][2] == list(train_df['image'])"
   ]
  },
  {
   "cell_type": "code",
   "execution_count": 106,
   "metadata": {
    "execution": {
     "iopub.execute_input": "2022-02-22T17:38:29.724376Z",
     "iopub.status.busy": "2022-02-22T17:38:29.723610Z",
     "iopub.status.idle": "2022-02-22T17:38:29.756369Z",
     "shell.execute_reply": "2022-02-22T17:38:29.755301Z",
     "shell.execute_reply.started": "2022-02-22T17:38:29.724204Z"
    }
   },
   "outputs": [
    {
     "data": {
      "text/plain": [
       "True"
      ]
     },
     "execution_count": 106,
     "metadata": {},
     "output_type": "execute_result"
    }
   ],
   "source": [
    "list(os.walk(val_folder))[0][2] == list(val_df['image'])"
   ]
  },
  {
   "cell_type": "code",
   "execution_count": 107,
   "metadata": {
    "execution": {
     "iopub.execute_input": "2022-02-22T17:38:40.823744Z",
     "iopub.status.busy": "2022-02-22T17:38:40.821152Z",
     "iopub.status.idle": "2022-02-22T17:38:40.864060Z",
     "shell.execute_reply": "2022-02-22T17:38:40.861938Z",
     "shell.execute_reply.started": "2022-02-22T17:38:40.821818Z"
    }
   },
   "outputs": [
    {
     "data": {
      "text/plain": [
       "True"
      ]
     },
     "execution_count": 107,
     "metadata": {},
     "output_type": "execute_result"
    }
   ],
   "source": [
    "list(os.walk(test_folder))[0][2] == list(test_df['image'])"
   ]
  },
  {
   "cell_type": "code",
   "execution_count": 138,
   "metadata": {
    "execution": {
     "iopub.execute_input": "2022-02-22T19:09:40.880891Z",
     "iopub.status.busy": "2022-02-22T19:09:40.880374Z",
     "iopub.status.idle": "2022-02-22T19:09:41.262991Z",
     "shell.execute_reply": "2022-02-22T19:09:41.261671Z",
     "shell.execute_reply.started": "2022-02-22T19:09:40.880833Z"
    }
   },
   "outputs": [
    {
     "ename": "ValueError",
     "evalue": "Expected the lengths of `labels` to match the number of files in the target directory. len(labels) is 46056 while we found 0 files in data/local_split/train.",
     "output_type": "error",
     "traceback": [
      "\u001b[0;31m---------------------------------------------------------------------------\u001b[0m",
      "\u001b[0;31mValueError\u001b[0m                                Traceback (most recent call last)",
      "\u001b[0;32m<ipython-input-138-5d3f1345b130>\u001b[0m in \u001b[0;36m<module>\u001b[0;34m\u001b[0m\n\u001b[0;32m----> 1\u001b[0;31m tf.keras.preprocessing.image_dataset_from_directory(\n\u001b[0m\u001b[1;32m      2\u001b[0m     \u001b[0mtrain_folder\u001b[0m\u001b[0;34m,\u001b[0m\u001b[0;34m\u001b[0m\u001b[0;34m\u001b[0m\u001b[0m\n\u001b[1;32m      3\u001b[0m     \u001b[0mlabels\u001b[0m\u001b[0;34m=\u001b[0m\u001b[0mtrain_labels_sp\u001b[0m\u001b[0;34m,\u001b[0m\u001b[0;34m\u001b[0m\u001b[0;34m\u001b[0m\u001b[0m\n\u001b[1;32m      4\u001b[0m     \u001b[0mlabel_mode\u001b[0m\u001b[0;34m=\u001b[0m\u001b[0;34m'categorical'\u001b[0m\u001b[0;34m,\u001b[0m\u001b[0;34m\u001b[0m\u001b[0;34m\u001b[0m\u001b[0m\n\u001b[1;32m      5\u001b[0m     \u001b[0mcolor_mode\u001b[0m\u001b[0;34m=\u001b[0m\u001b[0;34m'rgb'\u001b[0m\u001b[0;34m,\u001b[0m\u001b[0;34m\u001b[0m\u001b[0;34m\u001b[0m\u001b[0m\n",
      "\u001b[0;32m~/anaconda3/envs/learn-env/lib/python3.8/site-packages/tensorflow/python/keras/preprocessing/image_dataset.py\u001b[0m in \u001b[0;36mimage_dataset_from_directory\u001b[0;34m(directory, labels, label_mode, class_names, color_mode, batch_size, image_size, shuffle, seed, validation_split, subset, interpolation, follow_links, smart_resize)\u001b[0m\n\u001b[1;32m    181\u001b[0m   \u001b[0;32mif\u001b[0m \u001b[0mseed\u001b[0m \u001b[0;32mis\u001b[0m \u001b[0;32mNone\u001b[0m\u001b[0;34m:\u001b[0m\u001b[0;34m\u001b[0m\u001b[0;34m\u001b[0m\u001b[0m\n\u001b[1;32m    182\u001b[0m     \u001b[0mseed\u001b[0m \u001b[0;34m=\u001b[0m \u001b[0mnp\u001b[0m\u001b[0;34m.\u001b[0m\u001b[0mrandom\u001b[0m\u001b[0;34m.\u001b[0m\u001b[0mrandint\u001b[0m\u001b[0;34m(\u001b[0m\u001b[0;36m1e6\u001b[0m\u001b[0;34m)\u001b[0m\u001b[0;34m\u001b[0m\u001b[0;34m\u001b[0m\u001b[0m\n\u001b[0;32m--> 183\u001b[0;31m   image_paths, labels, class_names = dataset_utils.index_directory(\n\u001b[0m\u001b[1;32m    184\u001b[0m       \u001b[0mdirectory\u001b[0m\u001b[0;34m,\u001b[0m\u001b[0;34m\u001b[0m\u001b[0;34m\u001b[0m\u001b[0m\n\u001b[1;32m    185\u001b[0m       \u001b[0mlabels\u001b[0m\u001b[0;34m,\u001b[0m\u001b[0;34m\u001b[0m\u001b[0;34m\u001b[0m\u001b[0m\n",
      "\u001b[0;32m~/anaconda3/envs/learn-env/lib/python3.8/site-packages/tensorflow/python/keras/preprocessing/dataset_utils.py\u001b[0m in \u001b[0;36mindex_directory\u001b[0;34m(directory, labels, formats, class_names, shuffle, seed, follow_links)\u001b[0m\n\u001b[1;32m     97\u001b[0m   \u001b[0;32mif\u001b[0m \u001b[0mlabels\u001b[0m \u001b[0;32mnot\u001b[0m \u001b[0;32min\u001b[0m \u001b[0;34m(\u001b[0m\u001b[0;34m'inferred'\u001b[0m\u001b[0;34m,\u001b[0m \u001b[0;32mNone\u001b[0m\u001b[0;34m)\u001b[0m\u001b[0;34m:\u001b[0m\u001b[0;34m\u001b[0m\u001b[0;34m\u001b[0m\u001b[0m\n\u001b[1;32m     98\u001b[0m     \u001b[0;32mif\u001b[0m \u001b[0mlen\u001b[0m\u001b[0;34m(\u001b[0m\u001b[0mlabels\u001b[0m\u001b[0;34m)\u001b[0m \u001b[0;34m!=\u001b[0m \u001b[0mlen\u001b[0m\u001b[0;34m(\u001b[0m\u001b[0mfilenames\u001b[0m\u001b[0;34m)\u001b[0m\u001b[0;34m:\u001b[0m\u001b[0;34m\u001b[0m\u001b[0;34m\u001b[0m\u001b[0m\n\u001b[0;32m---> 99\u001b[0;31m       raise ValueError('Expected the lengths of `labels` to match the number '\n\u001b[0m\u001b[1;32m    100\u001b[0m                        \u001b[0;34m'of files in the target directory. len(labels) is %s '\u001b[0m\u001b[0;34m\u001b[0m\u001b[0;34m\u001b[0m\u001b[0m\n\u001b[1;32m    101\u001b[0m                        'while we found %s files in %s.' % (\n",
      "\u001b[0;31mValueError\u001b[0m: Expected the lengths of `labels` to match the number of files in the target directory. len(labels) is 46056 while we found 0 files in data/local_split/train."
     ]
    }
   ],
   "source": [
    "tf.keras.preprocessing.image_dataset_from_directory(\n",
    "    train_folder, \n",
    "    labels=train_labels_sp, \n",
    "    label_mode='categorical',\n",
    "    color_mode='rgb', \n",
    "    batch_size=32, \n",
    "    image_size=(256, 256), \n",
    "    shuffle=True, \n",
    "    seed=random_state\n",
    ")"
   ]
  },
  {
   "cell_type": "code",
   "execution_count": null,
   "metadata": {},
   "outputs": [],
   "source": []
  }
 ],
 "metadata": {
  "kernelspec": {
   "display_name": "Python (learn-env)",
   "language": "python",
   "name": "learn-env"
  },
  "language_info": {
   "codemirror_mode": {
    "name": "ipython",
    "version": 3
   },
   "file_extension": ".py",
   "mimetype": "text/x-python",
   "name": "python",
   "nbconvert_exporter": "python",
   "pygments_lexer": "ipython3",
   "version": "3.8.5"
  }
 },
 "nbformat": 4,
 "nbformat_minor": 4
}
