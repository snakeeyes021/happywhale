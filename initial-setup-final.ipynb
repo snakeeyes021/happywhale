{
 "cells": [
  {
   "cell_type": "code",
   "execution_count": 1,
   "metadata": {
    "execution": {
     "iopub.execute_input": "2022-02-23T19:22:01.466040Z",
     "iopub.status.busy": "2022-02-23T19:22:01.464850Z",
     "iopub.status.idle": "2022-02-23T19:22:05.677368Z",
     "shell.execute_reply": "2022-02-23T19:22:05.676679Z",
     "shell.execute_reply.started": "2022-02-23T19:22:01.465907Z"
    }
   },
   "outputs": [],
   "source": [
    "import pandas as pd\n",
    "import numpy as np\n",
    "import matplotlib.pyplot as plt\n",
    "import seaborn as sns\n",
    "\n",
    "import os\n",
    "import shutil\n",
    "import PIL\n",
    "import tensorflow as tf\n",
    "\n",
    "from sklearn.model_selection import train_test_split\n",
    "from sklearn.preprocessing import LabelEncoder\n",
    "\n",
    "from tensorflow import keras\n",
    "from tensorflow.keras import layers\n",
    "from tensorflow.keras.models import Sequential\n",
    "\n",
    "from keras.preprocessing.image import ImageDataGenerator, array_to_img, img_to_array, load_img\n",
    "\n",
    "%matplotlib inline\n",
    "\n",
    "random_state = 22222"
   ]
  },
  {
   "cell_type": "code",
   "execution_count": 2,
   "metadata": {
    "execution": {
     "iopub.execute_input": "2022-02-23T19:22:06.196382Z",
     "iopub.status.busy": "2022-02-23T19:22:06.195939Z",
     "iopub.status.idle": "2022-02-23T19:22:06.338293Z",
     "shell.execute_reply": "2022-02-23T19:22:06.337202Z",
     "shell.execute_reply.started": "2022-02-23T19:22:06.196337Z"
    }
   },
   "outputs": [
    {
     "name": "stdout",
     "output_type": "stream",
     "text": [
      "happy-whale-and-dolphin  local_split_og\n"
     ]
    }
   ],
   "source": [
    "!ls data"
   ]
  },
  {
   "cell_type": "code",
   "execution_count": 3,
   "metadata": {
    "execution": {
     "iopub.execute_input": "2022-02-23T19:22:06.896172Z",
     "iopub.status.busy": "2022-02-23T19:22:06.894415Z",
     "iopub.status.idle": "2022-02-23T19:22:07.082866Z",
     "shell.execute_reply": "2022-02-23T19:22:07.082140Z",
     "shell.execute_reply.started": "2022-02-23T19:22:06.895905Z"
    }
   },
   "outputs": [
    {
     "name": "stdout",
     "output_type": "stream",
     "text": [
      "sample_submission.csv  test_images  train.csv  train_images\n"
     ]
    }
   ],
   "source": [
    "!ls data/happy-whale-and-dolphin/"
   ]
  },
  {
   "cell_type": "code",
   "execution_count": 4,
   "metadata": {
    "execution": {
     "iopub.execute_input": "2022-02-23T19:22:12.466916Z",
     "iopub.status.busy": "2022-02-23T19:22:12.463300Z",
     "iopub.status.idle": "2022-02-23T19:22:12.595157Z",
     "shell.execute_reply": "2022-02-23T19:22:12.594161Z",
     "shell.execute_reply.started": "2022-02-23T19:22:12.466805Z"
    }
   },
   "outputs": [
    {
     "data": {
      "text/html": [
       "<div>\n",
       "<style scoped>\n",
       "    .dataframe tbody tr th:only-of-type {\n",
       "        vertical-align: middle;\n",
       "    }\n",
       "\n",
       "    .dataframe tbody tr th {\n",
       "        vertical-align: top;\n",
       "    }\n",
       "\n",
       "    .dataframe thead th {\n",
       "        text-align: right;\n",
       "    }\n",
       "</style>\n",
       "<table border=\"1\" class=\"dataframe\">\n",
       "  <thead>\n",
       "    <tr style=\"text-align: right;\">\n",
       "      <th></th>\n",
       "      <th>image</th>\n",
       "      <th>species</th>\n",
       "      <th>individual_id</th>\n",
       "    </tr>\n",
       "  </thead>\n",
       "  <tbody>\n",
       "    <tr>\n",
       "      <th>0</th>\n",
       "      <td>00021adfb725ed.jpg</td>\n",
       "      <td>melon_headed_whale</td>\n",
       "      <td>cadddb1636b9</td>\n",
       "    </tr>\n",
       "    <tr>\n",
       "      <th>1</th>\n",
       "      <td>000562241d384d.jpg</td>\n",
       "      <td>humpback_whale</td>\n",
       "      <td>1a71fbb72250</td>\n",
       "    </tr>\n",
       "    <tr>\n",
       "      <th>2</th>\n",
       "      <td>0007c33415ce37.jpg</td>\n",
       "      <td>false_killer_whale</td>\n",
       "      <td>60008f293a2b</td>\n",
       "    </tr>\n",
       "    <tr>\n",
       "      <th>3</th>\n",
       "      <td>0007d9bca26a99.jpg</td>\n",
       "      <td>bottlenose_dolphin</td>\n",
       "      <td>4b00fe572063</td>\n",
       "    </tr>\n",
       "    <tr>\n",
       "      <th>4</th>\n",
       "      <td>00087baf5cef7a.jpg</td>\n",
       "      <td>humpback_whale</td>\n",
       "      <td>8e5253662392</td>\n",
       "    </tr>\n",
       "    <tr>\n",
       "      <th>...</th>\n",
       "      <td>...</td>\n",
       "      <td>...</td>\n",
       "      <td>...</td>\n",
       "    </tr>\n",
       "    <tr>\n",
       "      <th>51028</th>\n",
       "      <td>fff639a7a78b3f.jpg</td>\n",
       "      <td>beluga</td>\n",
       "      <td>5ac053677ed1</td>\n",
       "    </tr>\n",
       "    <tr>\n",
       "      <th>51029</th>\n",
       "      <td>fff8b32daff17e.jpg</td>\n",
       "      <td>cuviers_beaked_whale</td>\n",
       "      <td>1184686361b3</td>\n",
       "    </tr>\n",
       "    <tr>\n",
       "      <th>51030</th>\n",
       "      <td>fff94675cc1aef.jpg</td>\n",
       "      <td>blue_whale</td>\n",
       "      <td>5401612696b9</td>\n",
       "    </tr>\n",
       "    <tr>\n",
       "      <th>51031</th>\n",
       "      <td>fffbc5dd642d8c.jpg</td>\n",
       "      <td>beluga</td>\n",
       "      <td>4000b3d7c24e</td>\n",
       "    </tr>\n",
       "    <tr>\n",
       "      <th>51032</th>\n",
       "      <td>fffdcd42312777.jpg</td>\n",
       "      <td>bottlenose_dolphin</td>\n",
       "      <td>4ddb2eeb5efb</td>\n",
       "    </tr>\n",
       "  </tbody>\n",
       "</table>\n",
       "<p>51033 rows × 3 columns</p>\n",
       "</div>"
      ],
      "text/plain": [
       "                    image               species individual_id\n",
       "0      00021adfb725ed.jpg    melon_headed_whale  cadddb1636b9\n",
       "1      000562241d384d.jpg        humpback_whale  1a71fbb72250\n",
       "2      0007c33415ce37.jpg    false_killer_whale  60008f293a2b\n",
       "3      0007d9bca26a99.jpg    bottlenose_dolphin  4b00fe572063\n",
       "4      00087baf5cef7a.jpg        humpback_whale  8e5253662392\n",
       "...                   ...                   ...           ...\n",
       "51028  fff639a7a78b3f.jpg                beluga  5ac053677ed1\n",
       "51029  fff8b32daff17e.jpg  cuviers_beaked_whale  1184686361b3\n",
       "51030  fff94675cc1aef.jpg            blue_whale  5401612696b9\n",
       "51031  fffbc5dd642d8c.jpg                beluga  4000b3d7c24e\n",
       "51032  fffdcd42312777.jpg    bottlenose_dolphin  4ddb2eeb5efb\n",
       "\n",
       "[51033 rows x 3 columns]"
      ]
     },
     "execution_count": 4,
     "metadata": {},
     "output_type": "execute_result"
    }
   ],
   "source": [
    "full_train_df = pd.read_csv('data/happy-whale-and-dolphin/train.csv')\n",
    "\n",
    "full_train_df"
   ]
  },
  {
   "cell_type": "code",
   "execution_count": 5,
   "metadata": {
    "execution": {
     "iopub.execute_input": "2022-02-23T19:22:13.315845Z",
     "iopub.status.busy": "2022-02-23T19:22:13.314961Z",
     "iopub.status.idle": "2022-02-23T19:22:13.344245Z",
     "shell.execute_reply": "2022-02-23T19:22:13.342742Z",
     "shell.execute_reply.started": "2022-02-23T19:22:13.315744Z"
    }
   },
   "outputs": [
    {
     "data": {
      "text/plain": [
       "bottlenose_dolphin           9664\n",
       "beluga                       7443\n",
       "humpback_whale               7392\n",
       "blue_whale                   4830\n",
       "false_killer_whale           3326\n",
       "dusky_dolphin                3139\n",
       "spinner_dolphin              1700\n",
       "melon_headed_whale           1689\n",
       "minke_whale                  1608\n",
       "killer_whale                 1493\n",
       "fin_whale                    1324\n",
       "gray_whale                   1123\n",
       "bottlenose_dolpin            1117\n",
       "kiler_whale                   962\n",
       "southern_right_whale          866\n",
       "spotted_dolphin               490\n",
       "sei_whale                     428\n",
       "short_finned_pilot_whale      367\n",
       "common_dolphin                347\n",
       "cuviers_beaked_whale          341\n",
       "pilot_whale                   262\n",
       "long_finned_pilot_whale       238\n",
       "white_sided_dolphin           229\n",
       "brydes_whale                  154\n",
       "pantropic_spotted_dolphin     145\n",
       "globis                        116\n",
       "commersons_dolphin             90\n",
       "pygmy_killer_whale             76\n",
       "rough_toothed_dolphin          60\n",
       "frasiers_dolphin               14\n",
       "Name: species, dtype: int64"
      ]
     },
     "execution_count": 5,
     "metadata": {},
     "output_type": "execute_result"
    }
   ],
   "source": [
    "full_train_df['species'].value_counts()"
   ]
  },
  {
   "cell_type": "markdown",
   "metadata": {},
   "source": [
    "Some of the species names are incorrect (e.g. \"kiler_whale\") or have duplicate entries (e.g. \"globis\" and \"pilot_whale\" for \"short_finned_pilot_whale\"), so we'll fix that here."
   ]
  },
  {
   "cell_type": "code",
   "execution_count": 6,
   "metadata": {
    "execution": {
     "iopub.execute_input": "2022-02-23T19:22:15.871698Z",
     "iopub.status.busy": "2022-02-23T19:22:15.867617Z",
     "iopub.status.idle": "2022-02-23T19:22:15.927897Z",
     "shell.execute_reply": "2022-02-23T19:22:15.926826Z",
     "shell.execute_reply.started": "2022-02-23T19:22:15.871500Z"
    }
   },
   "outputs": [
    {
     "data": {
      "text/plain": [
       "bottlenose_dolphin           10781\n",
       "beluga                        7443\n",
       "humpback_whale                7392\n",
       "blue_whale                    4830\n",
       "false_killer_whale            3326\n",
       "dusky_dolphin                 3139\n",
       "killer_whale                  2455\n",
       "spinner_dolphin               1700\n",
       "melon_headed_whale            1689\n",
       "minke_whale                   1608\n",
       "fin_whale                     1324\n",
       "gray_whale                    1123\n",
       "pilot_whale                    983\n",
       "southern_right_whale           866\n",
       "spotted_dolphin                490\n",
       "sei_whale                      428\n",
       "common_dolphin                 347\n",
       "cuviers_beaked_whale           341\n",
       "white_sided_dolphin            229\n",
       "brydes_whale                   154\n",
       "pantropic_spotted_dolphin      145\n",
       "commersons_dolphin              90\n",
       "pygmy_killer_whale              76\n",
       "rough_toothed_dolphin           60\n",
       "frasiers_dolphin                14\n",
       "Name: species, dtype: int64"
      ]
     },
     "execution_count": 6,
     "metadata": {},
     "output_type": "execute_result"
    }
   ],
   "source": [
    "full_train_df['species'].replace({\"globis\": \"pilot_whale\",\n",
    "                          \"short_finned_pilot_whale\": \"pilot_whale\",\n",
    "                          \"long_finned_pilot_whale\": \"pilot_whale\",\n",
    "                          \"kiler_whale\": \"killer_whale\",\n",
    "                          \"bottlenose_dolpin\": \"bottlenose_dolphin\"}, inplace=True)\n",
    "\n",
    "full_train_df['species'].value_counts()"
   ]
  },
  {
   "cell_type": "code",
   "execution_count": 7,
   "metadata": {
    "execution": {
     "iopub.execute_input": "2022-02-23T19:22:16.769945Z",
     "iopub.status.busy": "2022-02-23T19:22:16.768175Z",
     "iopub.status.idle": "2022-02-23T19:22:17.174311Z",
     "shell.execute_reply": "2022-02-23T19:22:17.173289Z",
     "shell.execute_reply.started": "2022-02-23T19:22:16.769746Z"
    }
   },
   "outputs": [
    {
     "data": {
      "image/png": "[encoded data removed]",
      "text/plain": [
       "<Figure size 432x288 with 1 Axes>"
      ]
     },
     "metadata": {
      "needs_background": "light"
     },
     "output_type": "display_data"
    }
   ],
   "source": [
    "full_train_df['species'].value_counts().plot.bar();"
   ]
  },
  {
   "cell_type": "markdown",
   "metadata": {},
   "source": [
    "# PUT SOME IMAGES AND STUFF HERE***"
   ]
  },
  {
   "cell_type": "code",
   "execution_count": null,
   "metadata": {},
   "outputs": [],
   "source": []
  },
  {
   "cell_type": "code",
   "execution_count": 8,
   "metadata": {
    "execution": {
     "iopub.execute_input": "2022-02-23T19:22:20.269144Z",
     "iopub.status.busy": "2022-02-23T19:22:20.267741Z",
     "iopub.status.idle": "2022-02-23T19:22:20.293933Z",
     "shell.execute_reply": "2022-02-23T19:22:20.289332Z",
     "shell.execute_reply.started": "2022-02-23T19:22:20.268948Z"
    }
   },
   "outputs": [],
   "source": [
    "kaggle_data_dir = 'data/happy-whale-and-dolphin/train_images'"
   ]
  },
  {
   "cell_type": "code",
   "execution_count": 9,
   "metadata": {
    "execution": {
     "iopub.execute_input": "2022-02-23T19:22:21.410712Z",
     "iopub.status.busy": "2022-02-23T19:22:21.409827Z",
     "iopub.status.idle": "2022-02-23T19:22:21.456723Z",
     "shell.execute_reply": "2022-02-23T19:22:21.455723Z",
     "shell.execute_reply.started": "2022-02-23T19:22:21.410605Z"
    }
   },
   "outputs": [
    {
     "data": {
      "text/plain": [
       "['00021adfb725ed.jpg',\n",
       " '000562241d384d.jpg',\n",
       " '0007c33415ce37.jpg',\n",
       " '0007d9bca26a99.jpg',\n",
       " '00087baf5cef7a.jpg',\n",
       " '000a8f2d5c316a.jpg',\n",
       " '000be9acf46619.jpg',\n",
       " '000bef247c7a42.jpg',\n",
       " '000c3d63069748.jpg',\n",
       " '000c476c11bad5.jpg']"
      ]
     },
     "execution_count": 9,
     "metadata": {},
     "output_type": "execute_result"
    }
   ],
   "source": [
    "local_dataset_imgs_names = [file for file in os.listdir(kaggle_data_dir)]\n",
    "local_dataset_imgs_names[0:10]"
   ]
  },
  {
   "cell_type": "code",
   "execution_count": 10,
   "metadata": {
    "execution": {
     "iopub.execute_input": "2022-02-23T19:22:22.757790Z",
     "iopub.status.busy": "2022-02-23T19:22:22.757177Z",
     "iopub.status.idle": "2022-02-23T19:22:22.770606Z",
     "shell.execute_reply": "2022-02-23T19:22:22.766599Z",
     "shell.execute_reply.started": "2022-02-23T19:22:22.757718Z"
    }
   },
   "outputs": [
    {
     "name": "stdout",
     "output_type": "stream",
     "text": [
      "There are 51033 whale and dolphin images to be split.\n"
     ]
    }
   ],
   "source": [
    "print('There are', len(local_dataset_imgs_names), 'whale and dolphin images to be split.')"
   ]
  },
  {
   "cell_type": "markdown",
   "metadata": {},
   "source": [
    "# The train/val/test split"
   ]
  },
  {
   "cell_type": "markdown",
   "metadata": {},
   "source": [
    "We'll do two sets of splits, one to create a dataset for training species recognition, and one for training individual recognition. The reason for this is that the necessary sizes of the val and test sets in the individual id recognition set are larger than we would ideally like them to be. This is because making sure that each individual ends up in the train set AND that the split is stratified requires about 6,000 photos in val and test, far more than is necessary. So the species split will be a more ideal 95/5 split, and the id split will be its own irregular thing."
   ]
  },
  {
   "cell_type": "markdown",
   "metadata": {},
   "source": [
    "### The species split is fairly straightforward."
   ]
  },
  {
   "cell_type": "code",
   "execution_count": 36,
   "metadata": {
    "execution": {
     "iopub.execute_input": "2022-02-23T19:59:22.479727Z",
     "iopub.status.busy": "2022-02-23T19:59:22.479270Z",
     "iopub.status.idle": "2022-02-23T19:59:22.561719Z",
     "shell.execute_reply": "2022-02-23T19:59:22.560845Z",
     "shell.execute_reply.started": "2022-02-23T19:59:22.479668Z"
    }
   },
   "outputs": [],
   "source": [
    "train_val_df_sp, test_df_sp = train_test_split(full_train_df, test_size=.05, stratify=full_train_df['species'], random_state=random_state)"
   ]
  },
  {
   "cell_type": "code",
   "execution_count": 38,
   "metadata": {
    "execution": {
     "iopub.execute_input": "2022-02-23T19:59:38.047930Z",
     "iopub.status.busy": "2022-02-23T19:59:38.047344Z",
     "iopub.status.idle": "2022-02-23T19:59:38.134000Z",
     "shell.execute_reply": "2022-02-23T19:59:38.133126Z",
     "shell.execute_reply.started": "2022-02-23T19:59:38.047870Z"
    }
   },
   "outputs": [],
   "source": [
    "train_df_sp, val_df_sp = train_test_split(train_val_df_sp, test_size=.05, stratify=train_val_df_sp['species'], random_state=random_state)"
   ]
  },
  {
   "cell_type": "markdown",
   "metadata": {},
   "source": [
    "### The individual id split is slightly more complicated."
   ]
  },
  {
   "cell_type": "markdown",
   "metadata": {},
   "source": [
    "There are some individuals for whom only one image exists. We want to make sure they end up in the train set because if we eventually submit our work to the Kaggle competition, we'll want to have trained on them. Unfortunately, merely setting stratify inside train_test_split won't work, because there would need to be at least two images, so first, we'll move those individuals to a special dataframe that we eventually merge with our train dataframe."
   ]
  },
  {
   "cell_type": "code",
   "execution_count": 17,
   "metadata": {
    "execution": {
     "iopub.execute_input": "2022-02-23T19:35:11.568591Z",
     "iopub.status.busy": "2022-02-23T19:35:11.568126Z",
     "iopub.status.idle": "2022-02-23T19:35:11.619795Z",
     "shell.execute_reply": "2022-02-23T19:35:11.618894Z",
     "shell.execute_reply.started": "2022-02-23T19:35:11.568536Z"
    }
   },
   "outputs": [],
   "source": [
    "counts = full_train_df['individual_id'].value_counts()\n",
    "\n",
    "single_ind_df = full_train_df[full_train_df['individual_id'].isin(counts[counts == 1].index)]\n",
    "partial_full_df = full_train_df[~full_train_df['individual_id'].isin(counts[counts == 1].index)]"
   ]
  },
  {
   "cell_type": "code",
   "execution_count": 18,
   "metadata": {
    "execution": {
     "iopub.execute_input": "2022-02-23T19:35:12.176618Z",
     "iopub.status.busy": "2022-02-23T19:35:12.176116Z",
     "iopub.status.idle": "2022-02-23T19:35:12.196654Z",
     "shell.execute_reply": "2022-02-23T19:35:12.195392Z",
     "shell.execute_reply.started": "2022-02-23T19:35:12.176556Z"
    }
   },
   "outputs": [
    {
     "name": "stdout",
     "output_type": "stream",
     "text": [
      "<class 'pandas.core.frame.DataFrame'>\n",
      "Int64Index: 9258 entries, 0 to 51018\n",
      "Data columns (total 3 columns):\n",
      " #   Column         Non-Null Count  Dtype \n",
      "---  ------         --------------  ----- \n",
      " 0   image          9258 non-null   object\n",
      " 1   species        9258 non-null   object\n",
      " 2   individual_id  9258 non-null   object\n",
      "dtypes: object(3)\n",
      "memory usage: 289.3+ KB\n"
     ]
    }
   ],
   "source": [
    "single_ind_df.info()"
   ]
  },
  {
   "cell_type": "code",
   "execution_count": 19,
   "metadata": {
    "execution": {
     "iopub.execute_input": "2022-02-23T19:35:13.246501Z",
     "iopub.status.busy": "2022-02-23T19:35:13.244372Z",
     "iopub.status.idle": "2022-02-23T19:35:13.279208Z",
     "shell.execute_reply": "2022-02-23T19:35:13.277887Z",
     "shell.execute_reply.started": "2022-02-23T19:35:13.246265Z"
    }
   },
   "outputs": [
    {
     "name": "stdout",
     "output_type": "stream",
     "text": [
      "<class 'pandas.core.frame.DataFrame'>\n",
      "Int64Index: 41775 entries, 1 to 51032\n",
      "Data columns (total 3 columns):\n",
      " #   Column         Non-Null Count  Dtype \n",
      "---  ------         --------------  ----- \n",
      " 0   image          41775 non-null  object\n",
      " 1   species        41775 non-null  object\n",
      " 2   individual_id  41775 non-null  object\n",
      "dtypes: object(3)\n",
      "memory usage: 1.3+ MB\n"
     ]
    }
   ],
   "source": [
    "partial_full_df.info()"
   ]
  },
  {
   "cell_type": "code",
   "execution_count": 20,
   "metadata": {
    "execution": {
     "iopub.execute_input": "2022-02-23T19:35:14.434848Z",
     "iopub.status.busy": "2022-02-23T19:35:14.434350Z",
     "iopub.status.idle": "2022-02-23T19:35:14.601451Z",
     "shell.execute_reply": "2022-02-23T19:35:14.600328Z",
     "shell.execute_reply.started": "2022-02-23T19:35:14.434792Z"
    }
   },
   "outputs": [],
   "source": [
    "train_val_df_id, test_df_id = train_test_split(partial_full_df, test_size=.152, stratify=partial_full_df['individual_id'], random_state=random_state)"
   ]
  },
  {
   "cell_type": "code",
   "execution_count": 23,
   "metadata": {
    "execution": {
     "iopub.execute_input": "2022-02-23T19:35:32.856479Z",
     "iopub.status.busy": "2022-02-23T19:35:32.855825Z",
     "iopub.status.idle": "2022-02-23T19:35:33.020003Z",
     "shell.execute_reply": "2022-02-23T19:35:33.017908Z",
     "shell.execute_reply.started": "2022-02-23T19:35:32.856403Z"
    }
   },
   "outputs": [],
   "source": [
    "train_df_id_lite, val_df_id = train_test_split(train_val_df_id, test_size=.179, stratify=train_val_df_id['individual_id'], random_state=random_state)"
   ]
  },
  {
   "cell_type": "code",
   "execution_count": 31,
   "metadata": {
    "execution": {
     "iopub.execute_input": "2022-02-23T19:38:49.083157Z",
     "iopub.status.busy": "2022-02-23T19:38:49.079838Z",
     "iopub.status.idle": "2022-02-23T19:38:49.119241Z",
     "shell.execute_reply": "2022-02-23T19:38:49.117916Z",
     "shell.execute_reply.started": "2022-02-23T19:38:49.082987Z"
    }
   },
   "outputs": [],
   "source": [
    "train_df_id = pd.concat([single_ind_df, train_df_id_lite]).sort_index()"
   ]
  },
  {
   "cell_type": "code",
   "execution_count": 44,
   "metadata": {
    "execution": {
     "iopub.execute_input": "2022-02-23T20:04:00.715638Z",
     "iopub.status.busy": "2022-02-23T20:04:00.715265Z",
     "iopub.status.idle": "2022-02-23T20:04:00.732436Z",
     "shell.execute_reply": "2022-02-23T20:04:00.730389Z",
     "shell.execute_reply.started": "2022-02-23T20:04:00.715596Z"
    }
   },
   "outputs": [
    {
     "data": {
      "text/html": [
       "<div>\n",
       "<style scoped>\n",
       "    .dataframe tbody tr th:only-of-type {\n",
       "        vertical-align: middle;\n",
       "    }\n",
       "\n",
       "    .dataframe tbody tr th {\n",
       "        vertical-align: top;\n",
       "    }\n",
       "\n",
       "    .dataframe thead th {\n",
       "        text-align: right;\n",
       "    }\n",
       "</style>\n",
       "<table border=\"1\" class=\"dataframe\">\n",
       "  <thead>\n",
       "    <tr style=\"text-align: right;\">\n",
       "      <th></th>\n",
       "      <th>image</th>\n",
       "      <th>species</th>\n",
       "      <th>individual_id</th>\n",
       "    </tr>\n",
       "  </thead>\n",
       "  <tbody>\n",
       "    <tr>\n",
       "      <th>0</th>\n",
       "      <td>00021adfb725ed.jpg</td>\n",
       "      <td>melon_headed_whale</td>\n",
       "      <td>cadddb1636b9</td>\n",
       "    </tr>\n",
       "    <tr>\n",
       "      <th>1</th>\n",
       "      <td>000562241d384d.jpg</td>\n",
       "      <td>humpback_whale</td>\n",
       "      <td>1a71fbb72250</td>\n",
       "    </tr>\n",
       "    <tr>\n",
       "      <th>2</th>\n",
       "      <td>0007c33415ce37.jpg</td>\n",
       "      <td>false_killer_whale</td>\n",
       "      <td>60008f293a2b</td>\n",
       "    </tr>\n",
       "    <tr>\n",
       "      <th>3</th>\n",
       "      <td>0007d9bca26a99.jpg</td>\n",
       "      <td>bottlenose_dolphin</td>\n",
       "      <td>4b00fe572063</td>\n",
       "    </tr>\n",
       "    <tr>\n",
       "      <th>4</th>\n",
       "      <td>00087baf5cef7a.jpg</td>\n",
       "      <td>humpback_whale</td>\n",
       "      <td>8e5253662392</td>\n",
       "    </tr>\n",
       "  </tbody>\n",
       "</table>\n",
       "</div>"
      ],
      "text/plain": [
       "                image             species individual_id\n",
       "0  00021adfb725ed.jpg  melon_headed_whale  cadddb1636b9\n",
       "1  000562241d384d.jpg      humpback_whale  1a71fbb72250\n",
       "2  0007c33415ce37.jpg  false_killer_whale  60008f293a2b\n",
       "3  0007d9bca26a99.jpg  bottlenose_dolphin  4b00fe572063\n",
       "4  00087baf5cef7a.jpg      humpback_whale  8e5253662392"
      ]
     },
     "execution_count": 44,
     "metadata": {},
     "output_type": "execute_result"
    }
   ],
   "source": [
    "train_df_id.head()"
   ]
  },
  {
   "cell_type": "code",
   "execution_count": 35,
   "metadata": {
    "execution": {
     "iopub.execute_input": "2022-02-23T19:40:29.256802Z",
     "iopub.status.busy": "2022-02-23T19:40:29.256160Z",
     "iopub.status.idle": "2022-02-23T19:40:29.305589Z",
     "shell.execute_reply": "2022-02-23T19:40:29.304355Z",
     "shell.execute_reply.started": "2022-02-23T19:40:29.256734Z"
    }
   },
   "outputs": [
    {
     "data": {
      "text/plain": [
       "image  species  individual_id\n",
       "True   True     True             51033\n",
       "dtype: int64"
      ]
     },
     "execution_count": 35,
     "metadata": {},
     "output_type": "execute_result"
    }
   ],
   "source": [
    "# Just to make sure we've done everything right\n",
    "(pd.concat([train_df_id, val_df_id, test_df_id]).sort_index() == full_train_df).value_counts()"
   ]
  },
  {
   "cell_type": "markdown",
   "metadata": {},
   "source": []
  },
  {
   "cell_type": "code",
   "execution_count": null,
   "metadata": {},
   "outputs": [],
   "source": []
  },
  {
   "cell_type": "code",
   "execution_count": null,
   "metadata": {},
   "outputs": [],
   "source": []
  },
  {
   "cell_type": "code",
   "execution_count": null,
   "metadata": {},
   "outputs": [],
   "source": []
  },
  {
   "cell_type": "code",
   "execution_count": null,
   "metadata": {},
   "outputs": [],
   "source": []
  },
  {
   "cell_type": "code",
   "execution_count": null,
   "metadata": {},
   "outputs": [],
   "source": []
  },
  {
   "cell_type": "code",
   "execution_count": null,
   "metadata": {},
   "outputs": [],
   "source": []
  },
  {
   "cell_type": "code",
   "execution_count": null,
   "metadata": {},
   "outputs": [],
   "source": []
  },
  {
   "cell_type": "code",
   "execution_count": null,
   "metadata": {},
   "outputs": [],
   "source": []
  },
  {
   "cell_type": "code",
   "execution_count": null,
   "metadata": {},
   "outputs": [],
   "source": []
  },
  {
   "cell_type": "code",
   "execution_count": null,
   "metadata": {},
   "outputs": [],
   "source": []
  },
  {
   "cell_type": "code",
   "execution_count": null,
   "metadata": {},
   "outputs": [],
   "source": []
  },
  {
   "cell_type": "code",
   "execution_count": null,
   "metadata": {},
   "outputs": [],
   "source": []
  },
  {
   "cell_type": "code",
   "execution_count": null,
   "metadata": {},
   "outputs": [],
   "source": []
  },
  {
   "cell_type": "code",
   "execution_count": null,
   "metadata": {},
   "outputs": [],
   "source": []
  },
  {
   "cell_type": "code",
   "execution_count": null,
   "metadata": {},
   "outputs": [],
   "source": []
  },
  {
   "cell_type": "code",
   "execution_count": null,
   "metadata": {},
   "outputs": [],
   "source": []
  },
  {
   "cell_type": "code",
   "execution_count": null,
   "metadata": {},
   "outputs": [],
   "source": []
  },
  {
   "cell_type": "code",
   "execution_count": null,
   "metadata": {},
   "outputs": [],
   "source": []
  },
  {
   "cell_type": "code",
   "execution_count": null,
   "metadata": {},
   "outputs": [],
   "source": []
  },
  {
   "cell_type": "code",
   "execution_count": null,
   "metadata": {},
   "outputs": [],
   "source": []
  },
  {
   "cell_type": "code",
   "execution_count": 16,
   "metadata": {
    "execution": {
     "iopub.execute_input": "2022-02-23T19:23:03.288633Z",
     "iopub.status.busy": "2022-02-23T19:23:03.286966Z",
     "iopub.status.idle": "2022-02-23T19:23:03.330873Z",
     "shell.execute_reply": "2022-02-23T19:23:03.328858Z",
     "shell.execute_reply.started": "2022-02-23T19:23:03.288444Z"
    }
   },
   "outputs": [],
   "source": [
    "train_imgs_names = list(train_df['image'].values)\n",
    "val_imgs_names = list(val_df['image'].values)\n",
    "test_imgs_names = list(test_df['image'].values)"
   ]
  },
  {
   "cell_type": "markdown",
   "metadata": {},
   "source": [
    "Now we'll copy the images from kaggle's train folder into our new folder structure, according to the train/val/test split we just performed on the dataframe."
   ]
  },
  {
   "cell_type": "code",
   "execution_count": null,
   "metadata": {},
   "outputs": [],
   "source": [
    "local_split_dir = 'data/local_split'\n",
    "\n",
    "train_folder = os.path.join(local_split_dir, 'train')\n",
    "val_folder = os.path.join(local_split_dir, 'validation')\n",
    "test_folder = os.path.join(local_split_dir, 'test')"
   ]
  },
  {
   "cell_type": "markdown",
   "metadata": {},
   "source": [
    "Only run these next two cells during initial setup."
   ]
  },
  {
   "cell_type": "code",
   "execution_count": null,
   "metadata": {},
   "outputs": [],
   "source": [
    "# os.mkdir(local_split_dir)\n",
    "\n",
    "# os.mkdir(train_folder)\n",
    "# os.mkdir(val_folder)\n",
    "# os.mkdir(test_folder)"
   ]
  },
  {
   "cell_type": "code",
   "execution_count": null,
   "metadata": {},
   "outputs": [],
   "source": [
    "# # copy train images\n",
    "# for image in train_imgs_names:\n",
    "#     origin = os.path.join(kaggle_data_dir, image)\n",
    "#     destination = os.path.join(train_folder, image)\n",
    "#     shutil.copyfile(origin, destination)\n",
    "    \n",
    "# # copy val images\n",
    "# for image in val_imgs_names:\n",
    "#     origin = os.path.join(kaggle_data_dir, image)\n",
    "#     destination = os.path.join(val_folder, image)\n",
    "#     shutil.copyfile(origin, destination)\n",
    "    \n",
    "# # copy test images\n",
    "# for image in test_imgs_names:\n",
    "#     origin = os.path.join(kaggle_data_dir, image)\n",
    "#     destination = os.path.join(test_folder, image)\n",
    "#     shutil.copyfile(origin, destination)"
   ]
  },
  {
   "cell_type": "code",
   "execution_count": null,
   "metadata": {},
   "outputs": [],
   "source": [
    "print('There are', len(os.listdir(train_folder)), 'images in the training set.')\n",
    "print('There are', len(os.listdir(val_folder)), 'images in the validation set.')\n",
    "print('There are', len(os.listdir(test_folder)), 'images in the test set.')"
   ]
  }
 ],
 "metadata": {
  "kernelspec": {
   "display_name": "Python (capstone-env)",
   "language": "python",
   "name": "capstone-env"
  },
  "language_info": {
   "codemirror_mode": {
    "name": "ipython",
    "version": 3
   },
   "file_extension": ".py",
   "mimetype": "text/x-python",
   "name": "python",
   "nbconvert_exporter": "python",
   "pygments_lexer": "ipython3",
   "version": "3.8.5"
  }
 },
 "nbformat": 4,
 "nbformat_minor": 4
}
